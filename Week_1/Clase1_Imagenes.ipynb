{
 "cells": [
  {
   "cell_type": "markdown",
   "metadata": {},
   "source": [
    "# Seminario-Taller: Procesamiento de Imágenes con Python \n",
    "Docentes: Dra. Laura M. Vargas y Dra. Valeria S. Rulloni\n",
    "\n",
    "Resumen \n",
    "* Uso básico de Python necesario, uso de librerías\n",
    "* Conceptos de imágenes y su procesamiento \n",
    "* Manejo y procesamiento de imágenes en Python\n",
    "\n",
    "# Jornada 1\n",
    "##  Imágenes:\n"
   ]
  },
  {
   "cell_type": "markdown",
   "metadata": {},
   "source": [
    "Podemos definir una imagen como una función bidimensional  f(x1,x2)  donde  x=(x1,x2)  son las coordenadas espaciales, y el valor de  f  en cualquier  x  es la intensidad de la imagen en dicho punto, si es en grises o binaria. Si es en color hay 3 valores de intensidad, uno por cada canal: R, G y B."
   ]
  },
  {
   "cell_type": "raw",
   "metadata": {},
   "source": [
    "El tamaño de la imagen en grises es el número de filas por el número de columnas,  M×N . \n",
    "La indexación de la imagen en Python sigue la convención habitual, comenzando en 0.\n",
    "En el caso de imágenes en gris, el pixel contiene el valor de intensidad I(x,y).\n",
    "En el caso de imágenes en color el tamaño será MxNx3. almacenando así en cada posición la intensidad de cada canal R, G y B. R será (x,y,1), G (x,y,2) y, por último, B (x,y,3). \n",
    "Si la intensidad se almacena como entero de 8 bits (uint8) significa que la intensidad pertenece al intervalo [0 255].\n",
    "Si la intensidad se almacena como entero de 16 bits (uint16) significa que pertenece al intervalo [0 65535]\n",
    "Si la imagen es binaria, la intensidad toma solo los valores 0 o 1.\n"
   ]
  },
  {
   "attachments": {
    "coordenadas.gif": {
     "image/gif": "[encoded data removed]"
    }
   },
   "cell_type": "markdown",
   "metadata": {},
   "source": [
    "![coordenadas.gif](attachment:coordenadas.gif)        "
   ]
  },
  {
   "cell_type": "markdown",
   "metadata": {},
   "source": [
    "\n",
    "Hay varias librerías para el manejo de imágenes en Python, algunas tareas son compartidas aunque en general cada librería tiene su especialidad.\n",
    "\n",
    "La librería histórica es la **PIL (Python Image Library)**. Esta tiene un submódulo Image que antes era independiente, por eso es necesario indicarlo. Python no importa automáticamente los submódulos.\n",
    "Se puede hacer:\n",
    "from PIL import Image\n",
    "o\n",
    "import PIL.Image\n",
    "\n",
    "**Observación**\n",
    "Puede ser necesario instalar las librerías. \n",
    "\n",
    "Todas las dependencias o paquetes del Python se instalan con pip. El pip.exe viene con el Python, en las últimas versiones. PyPI: Python Package Index (https://pypi.org), el repositorio oficial de Python donde cualquier persona puede crear una cuenta y subir sus propios paquetes para que puedan ser usados por la comunidad. \n",
    "\n",
    "Para instalar el paquete basta poner:\n",
    "\n",
    "*pip install nombre_del_paquete*\n",
    "\n",
    "\n",
    "También se puede usar conda, si se utilizó el Anaconda:\n",
    "\n",
    "*conda install nombre_paquete*\n",
    "\n",
    "### PIL (Python Image Library). \n"
   ]
  },
  {
   "cell_type": "code",
   "execution_count": null,
   "metadata": {},
   "outputs": [],
   "source": [
    "#!pip install PIL #una sola vez quitar el primer # y tipear ctrl+entr, de este renglón o sino\n",
    "#get_ipython().system('pip install PIL')"
   ]
  },
  {
   "cell_type": "code",
   "execution_count": null,
   "metadata": {},
   "outputs": [],
   "source": [
    "#PIL Python Image Library\n",
    "from PIL import Image\n",
    "#Funciones:\n",
    "#Image.open()\n",
    "imagen=Image.open('lenna.jpg') #Carga la imagen (de archivo) en memoria\n",
    "#Siempre para abrir una imagen de archivo, tenemos que estar ubicados en la carpeta donde tenemos \n",
    "#la imagen o bien conocer el Path completo de su ubicación \n",
    "\n",
    "print(\"El tamaño de la imagen es\",imagen.size)#imprime tamaño\n",
    "a=imagen.size #Podemos almacenar el valor en una variable\n",
    "print(\"El tamaño de la imagen es\",a)#imprime tamaño\n",
    "\n",
    "print(\"El modo de la imagen es\", imagen.mode) #indica si es en color, o gris\n",
    "print(\"El tipo/formato de imagen es\",imagen.format) #Si es png, pgm, jpg, etc.\n",
    "imagen.show()#muestra la imagen abriendo otra pantalla\n"
   ]
  },
  {
   "cell_type": "code",
   "execution_count": null,
   "metadata": {},
   "outputs": [],
   "source": [
    "#continuación\n",
    "imagengris=imagen.convert('L') #Convierte la imagen en gris y la guarda en otra variable\n",
    "\n",
    "print (\"El tamaño, modo y formato de la imagen es\", imagengris.size, imagengris.mode, imagengris.format)\n",
    " \n",
    "imagengris.show()\n"
   ]
  },
  {
   "cell_type": "markdown",
   "metadata": {},
   "source": [
    "### Guardar la imagen"
   ]
  },
  {
   "cell_type": "code",
   "execution_count": null,
   "metadata": {},
   "outputs": [],
   "source": [
    "#continuación\n",
    "imagengris.save('lenagris.jpg') #para variables tipo imagen de PIL\n",
    "imagencargada=Image.open('lenagris.jpg')\n",
    "print (\"Ahora el tamaño, modo y formato de la imagen es\", imagengris.size, imagengris.mode, imagengris.format)\n"
   ]
  },
  {
   "cell_type": "markdown",
   "metadata": {},
   "source": [
    "### Para poder manipular numéricamente los valores de intensidad es necesario usar la librería numpy y convertir la imagen en un array."
   ]
  },
  {
   "cell_type": "code",
   "execution_count": null,
   "metadata": {},
   "outputs": [],
   "source": [
    "#continuación\n",
    "\n",
    "import numpy as np #me permite convertir a array y manipular numéricamente\n",
    "from matplotlib.pyplot import imshow\n",
    "%matplotlib inline  \n",
    "#permite mostrar la imagen en la misma pantalla\n",
    "#Este comando solo se utiliza en el entorno de desarrollo de Jupyter Notebook\n",
    "\n",
    "imagen_matriz=np.asarray(imagen)\n",
    "imshow(imagen_matriz)#Observar que la función es imshow propia del matplotlib.pyplot \n",
    "#y no es nombredeimagen.show de Image\n",
    "\n",
    "#Al transformar la imagen en array con numpy se puede fijar el tipo de dato.\n",
    "imagen_matriz2=np.array(imagen,dtype=np.float32)\n",
    "#Se puede llevar nuevamente la matriz a imagen y grabarla\n",
    "Image.fromarray(imagen_matriz.astype(np.uint8)).save('prueba.jpg')"
   ]
  },
  {
   "cell_type": "markdown",
   "metadata": {},
   "source": [
    "activar Kernel -> Restart & Clear Output\n",
    "### Otra librería para manipulación y procesado de imágenes es **SimpleITK**. Primero hay que instalarla (por única vez)"
   ]
  },
  {
   "cell_type": "code",
   "execution_count": null,
   "metadata": {},
   "outputs": [],
   "source": [
    "#!pip install SimpleITK #una sola vez quitar el primer # y tipear ctrl+entr, de este renglón o sino\n",
    "#get_ipython().system('pip install SimpleITK')"
   ]
  },
  {
   "cell_type": "code",
   "execution_count": null,
   "metadata": {},
   "outputs": [],
   "source": [
    "import SimpleITK as sitk #http://simpleitk.github.io/SimpleITK-Notebooks/01_Image_Basics.html"
   ]
  },
  {
   "cell_type": "markdown",
   "metadata": {},
   "source": [
    "### Abrir una imagen con SimpleITK\n",
    "Para abrir una imagen, tenemos que estar ubicados en la carpeta donde tenemos la imagen o bien conocer el Path completo de su ubicación"
   ]
  },
  {
   "cell_type": "code",
   "execution_count": null,
   "metadata": {},
   "outputs": [],
   "source": [
    "import SimpleITK as sitk \n",
    "path=\"lenna.jpg\" #nombre de la imagen (y ubicación, si está ubicada en otra carpeta)\n",
    "ima=sitk.ReadImage(path) #lee el archivo y genera una variable TIPO IMAGEN\n",
    "ima_arr = sitk.GetArrayFromImage(ima) #variable TIPO ARREGLO (3D)\n",
    "print(\"La imagen\", path)\n",
    "print(\"es una imagen de tamaño\",ima_arr.shape)\n"
   ]
  },
  {
   "cell_type": "markdown",
   "metadata": {},
   "source": [
    "### Mostrar la imagen\n",
    " \n",
    " se puede usar sitk.Show(ima) si se tiene Fiji ( https://fiji.sc ) or ImageJ instalado correctamente en la compu\n",
    " \n",
    " sino se puede usar librería matplotlib"
   ]
  },
  {
   "cell_type": "code",
   "execution_count": null,
   "metadata": {
    "scrolled": false
   },
   "outputs": [],
   "source": [
    "#sitk.Show(ima) #help(sitk.Show) #This function requires that Fiji ( https://fiji.sc ) or ImageJ ( http://rsb.info.nih.gov/ij/) \n",
    "#be properly installed for Mac and Windows\n",
    "import matplotlib.pyplot as plt\n",
    "#se grafica usando el TIPO ARREGLO (3D)que en este caso se consiguió con la función de SimpleITk\n",
    "#ima_arr = sitk.GetArrayFromImage(ima) \n",
    "plt.imshow(ima_arr)\n",
    "plt.show()"
   ]
  },
  {
   "cell_type": "markdown",
   "metadata": {},
   "source": [
    "activar Kernel -> Restart & Clear Output\n",
    "\n",
    "Ejercicio 1:\n",
    "abrir y graficar una imagen a elección (puede ser la imagen \"daisy.jpg\") Ayuda:sitk.ReadImage, sitk.GetArrayFromImage y plt.imshow"
   ]
  },
  {
   "cell_type": "code",
   "execution_count": null,
   "metadata": {},
   "outputs": [],
   "source": [
    "import SimpleITK as sitk \n",
    "\n",
    "\n",
    "import matplotlib.pyplot as plt \n"
   ]
  },
  {
   "cell_type": "markdown",
   "metadata": {},
   "source": [
    "# Imágenes como arreglos o matrices 2D y 3D\n",
    "Kernel... Restart & Clear"
   ]
  },
  {
   "cell_type": "code",
   "execution_count": null,
   "metadata": {},
   "outputs": [],
   "source": [
    "#arreglos: matrices 2y 3D (pueden ser de más dimensiones)\n",
    "import numpy as np\n",
    "a=np.array([[[1,2,5,2],[4,2,1,3],[5,3,4,3]],[[1,2,5,2],[4,2,1,3],[5,3,4,3]]])\n",
    "#a=np.array([[[[1,2],[5,2]],[[1,2],[5,2]],[[1,2],[5,2]]],[[[1,2],[5,2]],[[1,2],[5,2]],[[1,2],[5,2]]]])\n",
    "print(\"a=\", a)\n",
    "print(\"dimensiones de a=\", a.shape)\n",
    "print(\"sum(a)=\",sum(a))\n",
    "print(\"dimensiones de sum(a)=\",(sum(a)).shape)\n",
    "a_t=np.transpose(a)\n",
    "print(\"dimensiones de la traspuesta de a=\" , a_t.shape)\n",
    "#print(dir(a))"
   ]
  },
  {
   "cell_type": "code",
   "execution_count": null,
   "metadata": {},
   "outputs": [],
   "source": [
    "#Kernel... Restart & Clear\n",
    "##volvemos a la imagen como arreglo o matriz\n",
    "import numpy as np\n",
    "import SimpleITK as sitk \n",
    "path=\"lenna.jpg\" #nombre de la imagen (y ubicación, si está ubicada en otra carpeta)\n",
    "ima=sitk.ReadImage(path) #lee el archivo y genera una variable TIPO IMAGEN\n",
    "ima_arr = sitk.GetArrayFromImage(ima) #variable TIPO ARREGLO (3D)\n",
    "print(\"dimensiones de imagen a color R-G-B =\" , ima_arr.shape)"
   ]
  },
  {
   "cell_type": "code",
   "execution_count": null,
   "metadata": {
    "scrolled": true
   },
   "outputs": [],
   "source": [
    "#continuación\n",
    "import matplotlib.pyplot as plt \n",
    "rojo=ima_arr[:,:,0]\n",
    "print(\"dimensiones de la componente roja (monocroma) =\" , rojo.shape)\n",
    "plt.imshow(rojo, cmap='gray')\n",
    "plt.title('componente rojo')\n",
    "plt.show()"
   ]
  },
  {
   "cell_type": "markdown",
   "metadata": {},
   "source": [
    "### Uso de cmap (Color Map) o paleta de colores"
   ]
  },
  {
   "cell_type": "code",
   "execution_count": null,
   "metadata": {},
   "outputs": [],
   "source": [
    "#continuación\n",
    "fig, axs = plt.subplots(nrows=1, ncols=2, sharex=True)\n",
    "fig.set_figheight(8)\n",
    "fig.set_figwidth(10)\n",
    "axs[0].imshow(rojo, cmap='gray')\n",
    "axs[0].set_title('componente rojo en escala de grises')\n",
    "axs[1].imshow(rojo) \n",
    "axs[1].set_title('componente rojo con paleta por defecto (viridis)')\n",
    "plt.show()"
   ]
  },
  {
   "cell_type": "markdown",
   "metadata": {},
   "source": [
    "![](paleta1.png)\n",
    "![](paleta3.png)\n",
    "\n",
    "https://matplotlib.org/examples/color/colormaps_reference.html"
   ]
  },
  {
   "cell_type": "code",
   "execution_count": null,
   "metadata": {},
   "outputs": [],
   "source": [
    "#continuación\n",
    "verde=ima_arr[:,:,1]\n",
    "azul=ima_arr[:,:,2]\n",
    "\n",
    "monocroma=(rojo/3+verde/3+azul/3)\n",
    "print(\"dimensiones de imagen monocroma  (R+G+B)/3=\" , monocroma.shape)\n",
    "\n",
    "#para gráfico de paleta\n",
    "l=np.linspace(0,ima_arr.max(),256)\n",
    "l=l.astype('uint8')\n",
    "tr=np.zeros((256,40),'uint8')\n",
    "for i in range(40):\n",
    "    tr[:,i]=l\n",
    "\n",
    "#paleta='inferno'\n",
    "paleta='gray' #clásica\n",
    "\n",
    "fig, axs = plt.subplots(nrows=2, ncols=3, sharex=True)\n",
    "fig.set_figheight(10)\n",
    "fig.set_figwidth(15)\n",
    "axs[0,0].imshow(ima_arr ,cmap=paleta)\n",
    "axs[0,0].set_title(\"imagen color RGB\")\n",
    "axs[0,1].imshow(monocroma ,cmap=paleta)\n",
    "axs[0,1].set_title(\"imagen monocroma (R+G+B)/3\")\n",
    "axs[0,2].imshow(tr,cmap=paleta)\n",
    "axs[0,2].set_title(\" referencia (paleta)\")\n",
    "axs[1,0].imshow(rojo ,cmap=paleta)\n",
    "axs[1,0].set_title(\"componente roja:R=Red\")\n",
    "axs[1,1].imshow(verde ,cmap=paleta)\n",
    "axs[1,1].set_title(\"componente verde:G=Green\")\n",
    "axs[1,2].imshow(azul ,cmap=paleta)\n",
    "axs[1,2].set_title(\"componente azul:B=Blue\")\n",
    "plt.show()"
   ]
  },
  {
   "cell_type": "markdown",
   "metadata": {},
   "source": [
    "activar Kernel -> Restart & Clear Output\n",
    "\n",
    "**Ejercicio: Crear imagen monocroma 64x64 con intensidad creciente**"
   ]
  },
  {
   "cell_type": "code",
   "execution_count": null,
   "metadata": {},
   "outputs": [],
   "source": [
    "import numpy as np\n",
    "arr_2D=np.zeros((64,64))\n",
    "print(type(arr_2D[0,0]))\n",
    "print(arr_2D)\n",
    "c=np.arange(64)#/64\n",
    "for i in c: \n",
    "    arr_2D[i,:]=c #en cada fila intensidad creciente numéricamente\n",
    "    \n",
    "print(arr_2D)\n",
    "print(\"dimensiones\",np.shape(c),\"y\", np.shape(arr_2D))\n",
    "import matplotlib.pyplot as plt \n",
    "fig, axs = plt.subplots(nrows=1, ncols=2, sharex=True)\n",
    "fig.set_figheight(7)\n",
    "fig.set_figwidth(10)\n",
    "axs[0].imshow(arr_2D, cmap='gray')#ojo con la visualización de los datos\n",
    "axs[0].set_title(\"minimo(0) negro, máximo (63) blanco\")\n",
    "axs[1].imshow(arr_2D, cmap='gray',vmin=0 ,vmax=255) #ojo con la visualización de los datos\n",
    "axs[1].set_title(\"0 negro, 255 blanco\")\n",
    "plt.show()\n"
   ]
  },
  {
   "cell_type": "markdown",
   "metadata": {},
   "source": [
    "activar Kernel -> Restart & Clear Output\n",
    "\n",
    "**Ejercicio 2:**\n",
    "construir y graficar una imagen cuadrada (tipo array) con fondo blanco y cruz negra"
   ]
  },
  {
   "cell_type": "code",
   "execution_count": null,
   "metadata": {},
   "outputs": [],
   "source": [
    "import numpy as np\n",
    "import matplotlib.pyplot as plt\n",
    "cruz=np.zeros((200,200))\n",
    "\n",
    "#modifique la variable cruz de manera conveniente\n",
    "\n",
    "plt.imshow(cruz, cmap='gray')\n",
    "plt.show()"
   ]
  },
  {
   "cell_type": "markdown",
   "metadata": {},
   "source": [
    "activar Kernel -> Restart & Clear Output\n",
    "\n",
    "**Ejercicio: construir y graficar una imagen con colores**"
   ]
  },
  {
   "cell_type": "code",
   "execution_count": null,
   "metadata": {
    "scrolled": true
   },
   "outputs": [],
   "source": [
    "import numpy as np\n",
    "import matplotlib.pyplot as plt\n",
    "\n",
    "arr_image=np.zeros((256,256,3),'uint16')\n",
    "print(type(arr_image[0,0,0]))\n",
    "c=np.arange(256)#\n",
    "#print(c)\n",
    "for i in c[0:127]: #primeras 128 columnas\n",
    "    arr_image[:,i,0]=c #rojo creciente en las primeras 128 columnas\n",
    "    arr_image[:,i,1]=(255-c) #verde decreciente en las primeras 128 columnas\n",
    "\n",
    "arr_image[:,128:,2]=255 #(solo) azul en las últimas columnas\n",
    "print(\"R-rojo:\")\n",
    "print( arr_image[: ,:, 0])\n",
    "print(\"G-verde:\")\n",
    "print( arr_image[:,:,1])\n",
    "print(\"B-azul:\")\n",
    "print( arr_image[:,:,2])\n",
    "plt.imshow(arr_image)\n",
    "#plt.imshow(arr_image*8) #saturación en el gráfico\n",
    "\n",
    "plt.show()"
   ]
  },
  {
   "cell_type": "markdown",
   "metadata": {},
   "source": [
    "**Ejercicio 3:**\n",
    "Construir y graficar una imagen (tipo array) con cuatro colores "
   ]
  },
  {
   "cell_type": "code",
   "execution_count": null,
   "metadata": {},
   "outputs": [],
   "source": []
  },
  {
   "cell_type": "markdown",
   "metadata": {},
   "source": [
    "## OpenCV\n",
    "La librería clásica por excelencia para el procesamiento de imágenes y visión por computadora es OpenCV (Computer Vision)\n",
    "Para poder utilizarla en Python primero hay que instalarla:\n",
    "\n",
    "Conectado a internet hacemos simplemente:\n",
    "\n",
    "Con las teclas Windows+R pasamos a Ejecutar. Hacemos cmd o en el Anaconda Prompt y tipeamos el comando:\n",
    "\n",
    "- pip install opencv-python\n",
    "\n",
    "si no funciona, realizar: \n",
    "\n",
    "En el Anaconda Prompt,con el entorno Anaconda activo correr:\n",
    "- conda install anaconda-client\n",
    "- conda install --channel https://conda.anaconda.org/menpo opencv3\n",
    "\n",
    "(gentileza de https://chrisconlan.com/installing-python-opencv-3-windows/)\n",
    "\n",
    "Para confirmar que OpenCV 3 está instalado correr: \n"
   ]
  },
  {
   "cell_type": "code",
   "execution_count": null,
   "metadata": {},
   "outputs": [],
   "source": [
    "import cv2\n",
    "cv2.__version__\n",
    "#'3.4.3' ó '3.1.0'"
   ]
  },
  {
   "cell_type": "markdown",
   "metadata": {},
   "source": [
    "Si es necesario hay que \"matar\" el kernel:"
   ]
  },
  {
   "cell_type": "code",
   "execution_count": null,
   "metadata": {
    "scrolled": true
   },
   "outputs": [],
   "source": [
    "#clear kernel\n",
    "#Kernel - Restart & Clear Output"
   ]
  },
  {
   "cell_type": "markdown",
   "metadata": {},
   "source": [
    "Recordar que para abrir una imagen, tenemos que estar ubicados en la carpeta donde tenemos la imagen o bien conocer el Path completo de su ubicación"
   ]
  },
  {
   "cell_type": "code",
   "execution_count": null,
   "metadata": {},
   "outputs": [],
   "source": [
    "import cv2\n",
    "IMAGEN=cv2.imread('lenna.jpg')\n",
    "print(type(IMAGEN))\n",
    "print(type(IMAGEN[1,1,1]))\n",
    "print(IMAGEN.shape)"
   ]
  },
  {
   "cell_type": "markdown",
   "metadata": {},
   "source": [
    "# Gráfico de imágenes con Opencv"
   ]
  },
  {
   "cell_type": "code",
   "execution_count": null,
   "metadata": {},
   "outputs": [],
   "source": [
    "cv2.imshow('imagen',IMAGEN)\n",
    "cv2.waitKey(0) #espera pulsado tecla\n",
    "#No debe cerrarse la ventana ya que en ese caso no responde al pulsado posterior\n",
    "#y no continúa la ejecución\n",
    "cv2.destroyAllWindows() #destruye las ventanas creadas"
   ]
  },
  {
   "cell_type": "markdown",
   "metadata": {},
   "source": [
    "**Ejercicios con PIL y numpy:** "
   ]
  },
  {
   "cell_type": "code",
   "execution_count": null,
   "metadata": {},
   "outputs": [],
   "source": [
    "import PIL\n",
    "from PIL import Image\n",
    "import matplotlib.pyplot as plt\n",
    "import numpy as np\n",
    "%matplotlib inline\n",
    "path=\"daisy.jpg\"\n",
    "ima=Image.open(path) #tipo imagen\n",
    "# get an array\n",
    "ima_a = np.asarray(ima)#'uint8' a color (3D)\n",
    "print(ima_a.shape, type(ima_a), type(ima_a[0,0,0]))\n",
    "plt.imshow(ima_a)\n",
    "plt.show()"
   ]
  },
  {
   "cell_type": "markdown",
   "metadata": {},
   "source": [
    "**Recorte de imagen y modificación**"
   ]
  },
  {
   "cell_type": "code",
   "execution_count": null,
   "metadata": {},
   "outputs": [],
   "source": [
    "#Continuación del anterior\n",
    "\n",
    "ima_recorte=ima_a[50:150,100:200,:]\n",
    "ima_falsocolor=ima_a[:,:,[1,2,0]]#cambia el orden de los canales de color\n",
    "\n",
    "print(\"primer pixel imagen original\",ima_a[0,0,:])#prueba para ver el cambio en los canales de color\n",
    "print(\"primer pixel falso color\",ima_falsocolor[0,0,:])\n",
    "\n",
    "ima_adefecto=ima_a[:,:,:]/2 #más oscuro\n",
    "\n",
    "print(ima_adefecto[0:1,0:1,:])\n",
    "ima_adefecto=ima_adefecto.astype('uint8') #es importante convertir el tipo de dato\n",
    "print(ima_adefecto[0:1,0:1,:])\n",
    "#print(ima_adefecto.shape)\n",
    "\n",
    "ima_adefecto[150:200,100:200,:]=0 #determinar un rectángulo negro dentro de la imagen oscurecida\n",
    "\n",
    "fig, axs = plt.subplots(nrows=1, ncols=3, sharex=True)\n",
    "fig.set_figheight(10)\n",
    "fig.set_figwidth(15)\n",
    "axs[0].imshow(ima_recorte)\n",
    "axs[0].set_title(\"Imagen recortada (zoom)\")\n",
    "axs[1].imshow(ima_falsocolor)\n",
    "axs[1].set_title(\"Imagen completa en falsocolor\")\n",
    "axs[2].imshow(ima_adefecto)\n",
    "axs[2].set_title(\"Oscura con defecto negro\")"
   ]
  },
  {
   "cell_type": "markdown",
   "metadata": {},
   "source": [
    "**Guardar imágenes creadas**"
   ]
  },
  {
   "cell_type": "code",
   "execution_count": null,
   "metadata": {},
   "outputs": [],
   "source": [
    "#from PIL import Image\n",
    "ima_r = Image.fromarray(ima_recorte) \n",
    "ima_r.save('flor_recorte.png')\n",
    "ima_fc = Image.fromarray(ima_falsocolor) \n",
    "ima_fc.save('flor_falsocolor.png')\n",
    "ima_d = Image.fromarray(ima_adefecto) \n",
    "ima_d.save('flor_con_defecto.png')"
   ]
  },
  {
   "cell_type": "code",
   "execution_count": null,
   "metadata": {},
   "outputs": [],
   "source": []
  }
 ],
 "metadata": {
  "kernelspec": {
   "display_name": "Python 3",
   "language": "python",
   "name": "python3"
  },
  "language_info": {
   "codemirror_mode": {
    "name": "ipython",
    "version": 3
   },
   "file_extension": ".py",
   "mimetype": "text/x-python",
   "name": "python",
   "nbconvert_exporter": "python",
   "pygments_lexer": "ipython3",
   "version": "3.6.5"
  }
 },
 "nbformat": 4,
 "nbformat_minor": 2
}
