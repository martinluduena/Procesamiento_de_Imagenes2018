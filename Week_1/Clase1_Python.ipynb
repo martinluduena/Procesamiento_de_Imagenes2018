{
 "cells": [
  {
   "cell_type": "markdown",
   "metadata": {
    "slideshow": {
     "slide_type": "-"
    }
   },
   "source": [
    "### Seminario-Taller: Procesamiento de Imágenes con Python \n",
    "Docentes: Dra. Laura M. Vargas y Dra. Valeria S. Rulloni\n",
    "\n",
    "Resumen \n",
    "* Uso básico de Python necesario, uso de librerías\n",
    "* Conceptos de imágenes y su procesamiento \n",
    "* Procesamiento de imágenes en Python\n",
    "\n",
    "## Cronograma:\n",
    "### Jornada 1: Python e imágenes digitales\n",
    "### Jornada 2: Mejora, histograma y filtros\n",
    "### Jornada 3: Operaciones morfológicas y clasificación\n",
    "\n",
    "### Tips:\n",
    "+ Este archivo y todos los de extensión .ipynb (se abren con jupyter y) se dividen en bloques, básicamente: bloques de texto (Markdown) y otros de código (Code, en Python). \n",
    "+ Cualquier bloque se ejecuta con shift+entr o utilizando el boton Run.\n",
    "\n",
    "# Jornada 1\n",
    "## Uso Básico de Python:\n",
    "\n",
    "+ En bloques de código de archivos .ipynb (o en archivos Python del tipo archivo.py):\n",
    "* Si el renglón en el código empieza con # es comentario, si no, es instrucción.\n",
    "* En una línea de instrucción se pueda agregar al final un comentario luego de #.\n",
    "\n",
    " #shift+entr para ejecutar (o botón Run)\n",
    "\n",
    "### Captura de Datos: input   \n",
    "### Muestra de Datos: print"
   ]
  },
  {
   "cell_type": "code",
   "execution_count": 1,
   "metadata": {},
   "outputs": [
    {
     "name": "stdout",
     "output_type": "stream",
     "text": [
      "Dígame un número: 100\n",
      "El nro ingresado es:  100\n",
      "<class 'str'>\n"
     ]
    }
   ],
   "source": [
    "numero = input(\"Dígame un número: \")\n",
    "print(\"El nro ingresado es: \",numero)\n",
    "print(type(numero))"
   ]
  },
  {
   "cell_type": "code",
   "execution_count": null,
   "metadata": {},
   "outputs": [],
   "source": []
  },
  {
   "cell_type": "code",
   "execution_count": 71,
   "metadata": {},
   "outputs": [
    {
     "name": "stdout",
     "output_type": "stream",
     "text": [
      "Introduce una cadena de texto:Hola, cómo te va?\n",
      "La cadena que ingresó es:  Hola, cómo te va?\n"
     ]
    }
   ],
   "source": [
    "cadena = input(\"Introduce una cadena de texto:\")\n",
    "print (\"La cadena que ingresó es: \",cadena)\n",
    "#print('La cadena que ingresó es: \"',cadena,'\"')\n"
   ]
  },
  {
   "cell_type": "markdown",
   "metadata": {},
   "source": [
    "Si desea que el número corresponda a un tipo de dato numérico, por ejemplo número entero o flotante:"
   ]
  },
  {
   "cell_type": "code",
   "execution_count": 73,
   "metadata": {},
   "outputs": [
    {
     "name": "stdout",
     "output_type": "stream",
     "text": [
      "Dígame un número: 230\n",
      "El nro ingresado es:  230\n",
      "<class 'int'>\n"
     ]
    }
   ],
   "source": [
    "numero = int(input(\"Dígame un número: \"))\n",
    "print(\"El nro ingresado es: \",numero)\n",
    "print(type(numero))"
   ]
  },
  {
   "cell_type": "code",
   "execution_count": null,
   "metadata": {},
   "outputs": [],
   "source": [
    "numero = float(input(\"Dígame un número: \"))\n",
    "print(\"El nro ingresado es: \",numero)\n",
    "print(type(numero))"
   ]
  },
  {
   "cell_type": "markdown",
   "metadata": {},
   "source": [
    "### Operaciones Aritméticas Elementales"
   ]
  },
  {
   "cell_type": "code",
   "execution_count": 2,
   "metadata": {},
   "outputs": [
    {
     "name": "stdout",
     "output_type": "stream",
     "text": [
      "Tipo de x:\n",
      "<class 'int'>\n",
      "Valor de x= 3\n",
      "x+1= 4\n",
      "x-1= 2\n",
      "x*2= 6\n",
      "x/2= 1.5\n",
      "x^2= 9\n",
      "Para imprimir varios valores en una línea:\n",
      "1 2 3 10\n",
      "2.5 <class 'float'>\n",
      "Si quiero bajar de línea \n",
      "Permite continuar en la siguiente\n",
      "7.5 <class 'float'>\n",
      "10.5\n",
      "8.0\n",
      "(1+1j) <class 'complex'>\n"
     ]
    }
   ],
   "source": [
    "x= 3 \n",
    "print(\"Tipo de x:\")\n",
    "print(type(x))  # Imprime el tipo (o `clase`) de x\n",
    "print(\"Valor de x=\",x)\n",
    "print(\"x+1=\",x+1)#Imprime 4\n",
    "print(\"x-1=\",x-1)  # Resta; imprime 2\n",
    "print(\"x*2=\",x*2) #Multiplicación; imrpime 6\n",
    "print(\"x/2=\",x/2) #división; imperime 1.5\n",
    "print(\"x^2=\",x**2) #potenciación; imprime 9\n",
    "print(\"Para imprimir varios valores en una línea:\")\n",
    "print(1,2,x,5*2) # imprime varios valores a la vez en la misma línea\n",
    "y=2.5\n",
    "print(y, type(y))\n",
    "print(\"Si quiero bajar de línea \\nPermite continuar en la siguiente\")\n",
    "z=x*y\n",
    "print(z,type(z))\n",
    "z+=x  #Equivale a z=z+x\n",
    "print(z)\n",
    "z-=y #Equivale a z=z-y\n",
    "print(z)\n",
    "t=1+1j #Permite complejos, acompañada siempre la j de un número\n",
    "print(t,type(t))"
   ]
  },
  {
   "cell_type": "code",
   "execution_count": 3,
   "metadata": {},
   "outputs": [
    {
     "name": "stdout",
     "output_type": "stream",
     "text": [
      "4\n",
      "1\n"
     ]
    }
   ],
   "source": [
    "#Operaciones entre números enteros: cociente y resto\n",
    "a= 9\n",
    "b=2\n",
    "print(a//b)#Cociente entre enteros- Devuelve 4\n",
    "print(a%b)#Resto entre enteros- Devuelve 1"
   ]
  },
  {
   "cell_type": "markdown",
   "metadata": {},
   "source": [
    "**Ejercicio**\n",
    "\n",
    "Defina una variable $a$ con valor 5 y una variable $b$ que sea igual al cubo de la anterior más 2. \n",
    "\n",
    "Muestre ambas en pantalla\n"
   ]
  },
  {
   "cell_type": "code",
   "execution_count": null,
   "metadata": {},
   "outputs": [],
   "source": []
  },
  {
   "cell_type": "markdown",
   "metadata": {},
   "source": [
    "### Datos Booleanos (True-False) - Operaciones Lógicas- Comparaciones"
   ]
  },
  {
   "cell_type": "code",
   "execution_count": 4,
   "metadata": {},
   "outputs": [
    {
     "name": "stdout",
     "output_type": "stream",
     "text": [
      "Valor de v1:  True\n",
      "Valor de v2 False\n",
      "Tipo de v1: <class 'bool'>\n",
      "Tipo de v2: <class 'bool'>\n",
      "v1 and v2: False\n",
      "v1 or v2 True\n",
      "v1 negado False\n",
      "\n",
      "3==5 False\n",
      "3 !=6 True\n",
      "3<5 True\n"
     ]
    }
   ],
   "source": [
    "v1 = True #el valor verdadero se escribe True \n",
    "v2 = False #el valor falso se escribe False\n",
    "\n",
    "print(\"Valor de v1: \",v1)\n",
    "print(\"Valor de v2\", v2)\n",
    "\n",
    "\n",
    "print(\"Tipo de v1:\", type(v1)) # Imprime la clase de un valor booleano ('bool')\n",
    "print(\"Tipo de v2:\",type(v2))\n",
    "\n",
    "#Operaciones Lógicas\n",
    "print(\"v1 and v2:\", v1 and v2) # y lógico; imprime False\n",
    "print(\"v1 or v2\",v1 or v2)  # o lógico; imprime True\n",
    "print(\"v1 negado\",not v1)   # negación lógica, imprime False\n",
    "\n",
    "print()\n",
    "\n",
    "#Comparaciones\n",
    "print (\"3==5\",3 == 5)  # Imprime False ya que son distintos\n",
    "print(\"3 !=6\",3 != 5)  # Imprime True ya que son distintos\n",
    "print(\"3<5\",3 < 5)  # Imprime True ya que 3 es menor que 5\n",
    "\n"
   ]
  },
  {
   "cell_type": "markdown",
   "metadata": {},
   "source": [
    "\n",
    "### Estructura de Decisión: If"
   ]
  },
  {
   "cell_type": "markdown",
   "metadata": {},
   "source": [
    "Su sintaxis es\n",
    "\n",
    "if condicion : \n",
    "\n",
    "    cuerpo del if #indentado con 4 espacios\n",
    "    \n",
    "else:\n",
    "    \n",
    "    cuerpo del else #indentado con 4 espacios\n"
   ]
  },
  {
   "cell_type": "code",
   "execution_count": 12,
   "metadata": {},
   "outputs": [
    {
     "name": "stdout",
     "output_type": "stream",
     "text": [
      "La persona es\n",
      "Mayor\n"
     ]
    }
   ],
   "source": [
    "#Ejemplo\n",
    "edad = 25\n",
    "\n",
    "print(\"La persona es\")\n",
    "if edad < 18:\n",
    "    print(\"Menor\") \n",
    "else:\n",
    "    print(\"Mayor\")\n"
   ]
  },
  {
   "cell_type": "markdown",
   "metadata": {},
   "source": [
    "**Los ifs se pueden anidar**\n",
    "\n",
    "**Los ifs pueden servir a distintas alternativas**\n",
    "\n",
    "if condición_1:\n",
    "\n",
    "    bloque 1\n",
    "\n",
    "elif condición_2:\n",
    "    \n",
    "    bloque 2\n",
    "\n",
    "else:\n",
    "    \n",
    "    bloque 3"
   ]
  },
  {
   "cell_type": "code",
   "execution_count": 11,
   "metadata": {},
   "outputs": [
    {
     "name": "stdout",
     "output_type": "stream",
     "text": [
      "Ingrese edad: 45\n",
      "Mayor de edad\n"
     ]
    }
   ],
   "source": [
    "#Ejemplo opciones múltiples\n",
    "edad=int(input(\"Ingrese edad: \"))\n",
    "if edad<0:\n",
    "    print(\"Error\")\n",
    "elif edad<18:\n",
    "    print(\"Menor de edad\")\n",
    "else:\n",
    "    print(\"Mayor de edad\")"
   ]
  },
  {
   "cell_type": "markdown",
   "metadata": {},
   "source": [
    "### Estructuras de Repetición : for"
   ]
  },
  {
   "cell_type": "code",
   "execution_count": 5,
   "metadata": {},
   "outputs": [
    {
     "name": "stdout",
     "output_type": "stream",
     "text": [
      "La suma de los números de la lista es:\n",
      "42\n"
     ]
    }
   ],
   "source": [
    "#Ejemplo for\n",
    "suma=0\n",
    "mis_numeros=[5,8,17,12]  #Defino lista entre corchetes\n",
    "for numero in mis_numeros:\n",
    "    suma=suma+numero\n",
    "print(\"La suma de los números de la lista es:\")\n",
    "print(suma)\n"
   ]
  },
  {
   "cell_type": "code",
   "execution_count": 2,
   "metadata": {},
   "outputs": [
    {
     "name": "stdout",
     "output_type": "stream",
     "text": [
      "Un for para range de 0 a 3\n",
      "0\n",
      "1\n",
      "2\n",
      "3\n",
      "Un for para range de 2 a 5:\n",
      "2\n",
      "3\n",
      "4\n",
      "5\n",
      "Un for para range de 2 a 11, salto 3\n",
      "2\n",
      "5\n",
      "8\n"
     ]
    }
   ],
   "source": [
    "#For con función range\n",
    "#Función range con un parámetro, empieza en 0- salto implícito 1, da la cantidad de elementos\n",
    "#Función range con dos parámetros, el primero indica el principio, el otro el final que es abierto\n",
    "#Función range con tres parámetros, indican principio, paso o salto y el final abierto. Es un intervalo abierto a derecha\n",
    "\n",
    "print(\"Un for para range de 0 a 3\")\n",
    "for i in range(4):\n",
    "    print(i)\n",
    "    \n",
    "print(\"Un for para range de 2 a 5:\")\n",
    "for j in range(2,6):\n",
    "    print(j)\n",
    "\n",
    "print(\"Un for para range de 2 a 11, salto 3\")\n",
    "for z in range(2,11,3):\n",
    "    print(z)\n",
    "    "
   ]
  },
  {
   "cell_type": "code",
   "execution_count": 3,
   "metadata": {},
   "outputs": [
    {
     "name": "stdout",
     "output_type": "stream",
     "text": [
      "ingrese número:10\n",
      "ingrese número:20\n",
      "ingrese número:30\n",
      "ingrese número:40\n",
      "100\n"
     ]
    }
   ],
   "source": [
    "suma=0\n",
    "for z in range(4):\n",
    "    dato=int(input(\"ingrese número:\"))\n",
    "    suma+=dato\n",
    "print(suma)\n"
   ]
  },
  {
   "cell_type": "markdown",
   "metadata": {},
   "source": [
    "### Estructuras de Repetición - While"
   ]
  },
  {
   "cell_type": "markdown",
   "metadata": {},
   "source": [
    "### While controlado por Evento"
   ]
  },
  {
   "cell_type": "code",
   "execution_count": 9,
   "metadata": {},
   "outputs": [
    {
     "name": "stdout",
     "output_type": "stream",
     "text": [
      "Ejemplo: cálculo del promedio de números ingresados-Cortar el ingreso de datos ingresando -1:\n",
      "\n",
      "Introduzca valor numérico (-1 para salir): \n",
      "20\n",
      "Introduzca valor numerico (-1 para salir): \n",
      "10\n",
      "Introduzca valor numerico (-1 para salir): \n",
      "14\n",
      "Introduzca valor numerico (-1 para salir): \n",
      "-1\n",
      "Promedio de valores ingresados =  14.666666666666666\n"
     ]
    }
   ],
   "source": [
    "print (\"Ejemplo: cálculo del promedio de números ingresados-Cortar el ingreso de datos ingresando -1:\\n\")\n",
    "total = 0\n",
    "contador = 0\n",
    "print(\"Introduzca valor numérico (-1 para salir): \")\n",
    "valor = int(input())\n",
    "while valor != -1:\n",
    "    total = total + valor\n",
    "    contador = contador + 1\n",
    "    print (\"Introduzca valor numerico (-1 para salir): \")\n",
    "    valor = int(input())\n",
    "if contador>0:\n",
    "    promedio = total / contador\n",
    "    print(\"Promedio de valores ingresados = \", promedio)\n",
    "else:\n",
    "    print(\"No se ingresaron números\")\n"
   ]
  },
  {
   "cell_type": "markdown",
   "metadata": {},
   "source": [
    "### While controlado por Conteo"
   ]
  },
  {
   "cell_type": "code",
   "execution_count": 10,
   "metadata": {},
   "outputs": [
    {
     "name": "stdout",
     "output_type": "stream",
     "text": [
      "Ingrese dato\n",
      "10\n",
      "Ingrese dato\n",
      "20\n",
      "Ingrese dato\n",
      "30\n",
      "Ingrese dato\n",
      "-10\n",
      "Suma 50\n"
     ]
    }
   ],
   "source": [
    "contador = 4\n",
    "suma=0\n",
    "while contador > 0:\n",
    "    print(\"Ingrese dato\")\n",
    "    nro=int(input())\n",
    "    suma=suma+nro\n",
    "    contador=contador-1\n",
    "print ('Suma', suma)\n"
   ]
  },
  {
   "cell_type": "code",
   "execution_count": 22,
   "metadata": {},
   "outputs": [
    {
     "name": "stdout",
     "output_type": "stream",
     "text": [
      "Valor actual de la variable: 9\n",
      "Valor actual de la variable: 8\n",
      "Valor actual de la variable: 7\n",
      "Valor actual de la variable: 6\n",
      "Valor actual de la variable: 5\n",
      "Valor actual de la variable: 4\n",
      "Valor actual de la variable: 1\n"
     ]
    }
   ],
   "source": [
    "# Ejemplo\n",
    "# While con uso de continue\n",
    "variable = 10\n",
    "while variable > 1:              \n",
    "   variable = variable -1\n",
    "   if variable == 3:\n",
    "        variable=2\n",
    "        continue\n",
    "   print ('Valor actual de la variable:', variable)\n"
   ]
  },
  {
   "cell_type": "code",
   "execution_count": 13,
   "metadata": {},
   "outputs": [
    {
     "name": "stdout",
     "output_type": "stream",
     "text": [
      "Valor actual de la variable: 10\n",
      "Valor actual de la variable: 9\n",
      "Valor actual de la variable: 8\n",
      "Valor actual de la variable: 7\n",
      "Valor actual de la variable: 6\n"
     ]
    }
   ],
   "source": [
    "#Ejemplo\n",
    "# While - Uso de Break\n",
    "\n",
    "variable = 10\n",
    "while True:\n",
    "    print ('Valor actual de la variable:', variable)\n",
    "    variable = variable -1\n",
    "    if variable == 5:\n",
    "        break\n"
   ]
  },
  {
   "cell_type": "markdown",
   "metadata": {},
   "source": [
    "### Datos Tipo lista (de strings, de datos numéricos)- Diferente de Vector"
   ]
  },
  {
   "cell_type": "markdown",
   "metadata": {},
   "source": [
    "### Concatenación de Listas: +"
   ]
  },
  {
   "cell_type": "markdown",
   "metadata": {},
   "source": [
    "### Acceso a un elemento en particular de la lista (por posición la que se indica entre corchetes. Primer elemento: posición 0"
   ]
  },
  {
   "cell_type": "code",
   "execution_count": 27,
   "metadata": {},
   "outputs": [
    {
     "name": "stdout",
     "output_type": "stream",
     "text": [
      "lista1= ['hola', 'que', 'tal', 'Juan']\n",
      "<class 'list'>\n",
      "<class 'str'>\n",
      "tal\n",
      "Juan\n",
      "4\n",
      "lista2= [25.0, 75, 0, 8.0, 20.0]\n",
      "<class 'list'>\n",
      "<class 'float'>\n",
      "75\n",
      "0\n",
      "5\n",
      "['hola', 'que', 'tal', 'Juan', 25.0, 75, 0, 8.0, 20.0]\n",
      "<class 'list'>\n",
      "<class 'str'>\n"
     ]
    }
   ],
   "source": [
    "lista1=[\"hola\", \"que\", \"tal\",\"Juan\"]#los elementos de una lista van entre corchetes y separados por comas\n",
    "print(\"lista1=\", lista1)\n",
    "print(type(lista1))\n",
    "print(type(lista1[0]))\n",
    "print(max(lista1))\n",
    "print(min(lista1))\n",
    "print(len(lista1))\n",
    "\n",
    "lista2=[25.,75,0, 8., 20.] \n",
    "print(\"lista2=\", lista2)\n",
    "print(type(lista2))\n",
    "print(type(lista2[0]))\n",
    "print(max(lista2))\n",
    "print(min(lista2))\n",
    "print(len(lista2))\n",
    "\n",
    "concatenada=lista1+lista2 #El signo + concatena listas, no es suma\n",
    "print(concatenada)\n",
    "print(type(concatenada))\n",
    "print(type(concatenada[0]))\n",
    "#No puede dar el máximo ni el mínimo porque los elementos son de distinto tipo: str y float"
   ]
  },
  {
   "cell_type": "code",
   "execution_count": 21,
   "metadata": {},
   "outputs": [
    {
     "name": "stdout",
     "output_type": "stream",
     "text": [
      "[25.0, 8.0, 20.0, 75.0, 25.0, 8.0, 20.0, 75.0, 25.0, 8.0, 20.0, 75.0, 25.0, 8.0, 20.0, 75.0]\n",
      "[25.0, 8.0, 20.0, 75.0, 25.0, 8.0, 20.0, 75.0, 25.0, 8.0, 20.0, 75.0, 25.0, 8.0, 20.0, 75.0]\n"
     ]
    }
   ],
   "source": [
    "print(lista2+lista2)\n",
    "lista2.extend(lista2)#Otro método de concatenación\n",
    "print(lista2)\n",
    "\n",
    "#print(lista2+2)#Esta operación daría error- Esta operación no es soportada por una lista\n",
    "# para trabajar con vectores debemos utilizar la librería numpy"
   ]
  },
  {
   "cell_type": "markdown",
   "metadata": {},
   "source": [
    "### Funciones Definidas por el Usuario"
   ]
  },
  {
   "cell_type": "markdown",
   "metadata": {},
   "source": [
    "*Las funciones se definen con la palabra clave def*\n",
    "\n",
    "**Sintaxis**\n",
    "\n",
    "def nombre_funcion(parametros):\n",
    "    \n",
    "    Cuerpo de la función\n",
    "    \n",
    "    return\n"
   ]
  },
  {
   "cell_type": "code",
   "execution_count": 14,
   "metadata": {},
   "outputs": [],
   "source": [
    "def sumar(a,b):\n",
    "    return a+b\n"
   ]
  },
  {
   "cell_type": "markdown",
   "metadata": {},
   "source": [
    "**Llamada a la función**"
   ]
  },
  {
   "cell_type": "code",
   "execution_count": 15,
   "metadata": {},
   "outputs": [
    {
     "name": "stdout",
     "output_type": "stream",
     "text": [
      "La suma es\n",
      "7\n"
     ]
    }
   ],
   "source": [
    "c=sumar(2,5)\n",
    "print(\"La suma es\")\n",
    "print(c)\n"
   ]
  },
  {
   "cell_type": "markdown",
   "metadata": {},
   "source": [
    "## Librería Numpy"
   ]
  },
  {
   "cell_type": "markdown",
   "metadata": {},
   "source": [
    "### Tips:\n",
    "Los tipos de datos predefinidos en Python no precisan el agregado de librerías\n",
    "Otros tipos de datos precisan la importanción de librerías específicas.\n",
    "\n",
    "* Librería Numpy: para el cálculo de operaciones matriciales en Python. \n",
    "* La forma de \"llamar\", \"cargar\" o importar una libreria xxxxxx es la siguiente: import xxxxxx as xx, donde xx es el nombre corto que le asignamos para poder llamar sus funciones, por ejemplo:\n"
   ]
  },
  {
   "cell_type": "code",
   "execution_count": null,
   "metadata": {},
   "outputs": [],
   "source": [
    "import numpy as np #shift+entr para ejecutar (o botón Run)"
   ]
  },
  {
   "cell_type": "markdown",
   "metadata": {},
   "source": [
    "# Algunas diferencias entre Matlab y Phyton\n",
    "![](tabla_np1.png)\n",
    "\n",
    "de [1] E. Cabrera, E. Díaz, O. G. Calderón, S. Melle, F. Domínguez-Adame y J. M. Ezquerro. \"Manual de uso de IPython Notebook para docentes\", Universidad Complutense de Madrid (2013)\n",
    "\n"
   ]
  },
  {
   "cell_type": "markdown",
   "metadata": {},
   "source": [
    "## Vectores :  1D-array\n",
    "Dado el vector  $v = (25, 75, 8, 20)$ \n",
    "\n",
    "Mostrar la longitud de v, máximo y mínimo valor de v\n"
   ]
  },
  {
   "cell_type": "code",
   "execution_count": 13,
   "metadata": {},
   "outputs": [
    {
     "name": "stdout",
     "output_type": "stream",
     "text": [
      "[25.0, 8.0, 20.0, 75.0]\n",
      "<class 'list'>\n",
      "\n",
      "v= [25.  8. 20. 75.]\n",
      "tipo de v: <class 'numpy.ndarray'>\n",
      "longitud de v: 4\n",
      "máximo de v: 75.0 o 75.0\n",
      "mínimo de v: 8.0\n",
      "8.0\n",
      "8.0\n"
     ]
    }
   ],
   "source": [
    "import numpy as np\n",
    "ve=[25., 8., 20., 75.] \n",
    "print(ve)\n",
    "print(type(ve))\n",
    "print()\n",
    "\n",
    "v=np.array(ve)\n",
    "print(\"v=\", v) #El vector no lleva comas separando los elementos\n",
    "print(\"tipo de v:\", type(v))\n",
    "print(\"longitud de v:\", len(v))\n",
    "\n",
    "# máximo y mínimo valor de v\n",
    "print(\"máximo de v:\", v.max(), \"o\",np.max(v)) #función de numpy.ndarray\n",
    "\n",
    "print(\"mínimo de v:\", v.min())\n",
    "print(min(v))\n",
    "print(np.min(v))"
   ]
  },
  {
   "cell_type": "markdown",
   "metadata": {},
   "source": [
    "**Ejercicio: **\n",
    "\n",
    "Defina el vector u=$(5 , 9, 10, -1)$\n",
    "\n",
    "Defina el vector v=$(-2, 0, 5, 4)$\n",
    "\n",
    "Muestre ambos vectores\n",
    "Calcule y muestre z=u+v\n",
    "Calcule y muestre el vector doble del vector z\n",
    "Calcule y muestre el vector que resulta de restar 3 unidades a cada elemento del vector anterior"
   ]
  },
  {
   "cell_type": "code",
   "execution_count": null,
   "metadata": {},
   "outputs": [],
   "source": []
  },
  {
   "cell_type": "code",
   "execution_count": 81,
   "metadata": {},
   "outputs": [
    {
     "name": "stdout",
     "output_type": "stream",
     "text": [
      "x= [0. 0. 0. 0.]\n",
      "u= [1. 1. 1. 1.]\n",
      "\n",
      "[ 5  8 11 14]\n",
      "[ 5  8 11 14]\n",
      "\n",
      "[0.   0.25 0.5  0.75 1.  ]\n",
      "\n",
      "[ 5.  8. 11. 14.]\n",
      "[ 5.  8. 11.]\n"
     ]
    }
   ],
   "source": [
    "#Facilidades de numpy\n",
    "\n",
    "#Definir un vector de 4 ceros\n",
    "\n",
    "#Definir un vector de 4 unos\n",
    "\n",
    "#Defina un vector que empiece con 5, el paso sea 3 y no supere el 16\n",
    "#Función arange con 1 parámetro: se supone empieza en 0, paso=1\n",
    "#Función arange con 2 parámetros (inicio, final) suponge paso=1\n",
    "#Función arange con 3 parámetros (inicio, final, paso)- El final no pertenece al conjunto\n",
    "\n",
    "#Obtener un vector con la función np.linspace(inicio,final, cantidad de puntos). Que empiece en 0 termine en 1 y tenga 5 valores\n",
    "\n",
    "#Cambiar el tipo de dato de un vector\n",
    "\n",
    "#Generar un vector con los primeros 3 elementos del anterior\n",
    "\n",
    "\n",
    "import numpy as np\n",
    "\n",
    "x=np.zeros(4)\n",
    "u=np.ones(4)\n",
    "print(\"x=\",x)\n",
    "print(\"u=\",u)\n",
    "print()\n",
    "\n",
    "print(np.arange(5,16,3))\n",
    "s=np.arange(5,16,3)\n",
    "print(s)\n",
    "print()\n",
    "\n",
    "linea=np.linspace(0,1,5)\n",
    "print(linea)\n",
    "print()\n",
    "\n",
    "t=s.astype(np.float32)\n",
    "print(t)\n",
    "\n",
    "r=t[0:3]#muestra 3 elementos\n",
    "print(r)"
   ]
  },
  {
   "cell_type": "code",
   "execution_count": 89,
   "metadata": {},
   "outputs": [
    {
     "name": "stdout",
     "output_type": "stream",
     "text": [
      "[0 1 2 3] es igual que [0 1 2 3]\n"
     ]
    }
   ],
   "source": [
    "r=range(4) #Es lista\n",
    "rr=np.array(r) #Genera vector a partir de lista\n",
    "\n",
    "print(np.array(range(4)), \"es igual que\", np.arange(4)) #dos formas de generar el vector [0,1,2,3]\n"
   ]
  },
  {
   "cell_type": "markdown",
   "metadata": {},
   "source": [
    "\n",
    "\n",
    "**Ejercicio**\n",
    "\n",
    "Defina y muestre un vector s que empiece en 2, de paso sea igual a 3 y que no supere el 21\n",
    "\n",
    "Muestre el sexto y el último lugar de s\n",
    "\n",
    "Genere un vector r desde el segundo elemento al 5 de s\n",
    "\n",
    "Muestre el vector de los cuadrados de cada elemento de s\n",
    "\n",
    "Muestre el vector de cada elemento de s elevado a un exponente igual a dicho elemento\n",
    "\n"
   ]
  },
  {
   "cell_type": "code",
   "execution_count": null,
   "metadata": {},
   "outputs": [],
   "source": []
  },
  {
   "cell_type": "markdown",
   "metadata": {},
   "source": [
    "### Librería Matplotlib- Gráficos"
   ]
  },
  {
   "cell_type": "code",
   "execution_count": 100,
   "metadata": {},
   "outputs": [
    {
     "data": {
      "image/png": "[encoded data removed]",
      "text/plain": [
       "<Figure size 432x288 with 1 Axes>"
      ]
     },
     "metadata": {
      "needs_background": "light"
     },
     "output_type": "display_data"
    },
    {
     "data": {
      "image/png": "[encoded data removed]",
      "text/plain": [
       "<Figure size 432x288 with 1 Axes>"
      ]
     },
     "metadata": {
      "needs_background": "light"
     },
     "output_type": "display_data"
    },
    {
     "data": {
      "image/png": "[encoded data removed]",
      "text/plain": [
       "<Figure size 432x288 with 1 Axes>"
      ]
     },
     "metadata": {
      "needs_background": "light"
     },
     "output_type": "display_data"
    }
   ],
   "source": [
    "import matplotlib as plot\n",
    "%matplotlib inline\n",
    "plt.plot([4,8,13,17,20],[54, 67, 98, 78, 45])\n",
    "plt.show()\n",
    "plt.plot([4,8,13,17,20],[54, 67, 98, 78, 45],'g--d')\n",
    "plt.show()\n",
    "plt.scatter([4,8,13,17,20],[54, 67, 98, 78, 45])\n",
    "plt.show()"
   ]
  },
  {
   "cell_type": "markdown",
   "metadata": {},
   "source": [
    "\n",
    "Defina el vector u=$(5, 9, 10, -1)$\n",
    "\n",
    "Defina el vector v=$(-2, 0, 5, 4)$\n",
    "\n",
    "Grafique los vectores $u$, $v$, $u+v$ \n",
    "\n",
    "\n"
   ]
  },
  {
   "cell_type": "code",
   "execution_count": 92,
   "metadata": {},
   "outputs": [
    {
     "data": {
      "image/png": "[encoded data removed]",
      "text/plain": [
       "<Figure size 1080x720 with 6 Axes>"
      ]
     },
     "metadata": {
      "needs_background": "light"
     },
     "output_type": "display_data"
    }
   ],
   "source": [
    "import numpy as np\n",
    "import matplotlib.pyplot as plt\n",
    "%matplotlib inline\n",
    "u=np.array([5,9,10,-1])\n",
    "v=np.array([-2,0,5,4])\n",
    "\n",
    "fig, axs = plt.subplots(nrows=3, ncols=2, sharex=True)\n",
    "fig.set_figheight(10)\n",
    "fig.set_figwidth(15)\n",
    "axs[0,0].plot(u)\n",
    "axs[0,0].set_title('vector u')\n",
    "\n",
    "axs[0,1].plot(v)\n",
    "axs[0,1].set_title('vector v')\n",
    "\n",
    "axs[1,0].plot(range(4),u)\n",
    "axs[1,0].set_title('vector u')\n",
    "\n",
    "axs[1,1].plot(range(4),w)\n",
    "axs[1,0].set_title('vector suma=u+v')\n",
    "\n",
    "axs[2,0].scatter(range(4),u)\n",
    "axs[1,0].set_title('vector u')\n",
    "axs[2,1].scatter(range(4),w)\n",
    "axs[1,0].set_title('vector suma=u+v')\n",
    "\n",
    "plt.show()"
   ]
  },
  {
   "cell_type": "code",
   "execution_count": 95,
   "metadata": {},
   "outputs": [
    {
     "name": "stdout",
     "output_type": "stream",
     "text": [
      "[ 2  6 10 14 18 22 26]\n"
     ]
    },
    {
     "data": {
      "image/png": "[encoded data removed]",
      "text/plain": [
       "<Figure size 1080x360 with 2 Axes>"
      ]
     },
     "metadata": {
      "needs_background": "light"
     },
     "output_type": "display_data"
    }
   ],
   "source": [
    "import numpy as np\n",
    "import matplotlib.pyplot as plt\n",
    "%matplotlib inline\n",
    "s=range(2,27,4)\n",
    "s=np.array(s)\n",
    "print(s)\n",
    "l=np.linspace(0.0,1.0,256)\n",
    "\n",
    "fig, axs = plt.subplots(nrows=1, ncols=2, sharex=True)\n",
    "fig.set_figheight(5)\n",
    "fig.set_figwidth(15)\n",
    "axs[0].scatter(range(7),s)\n",
    "axs[1].plot(l)\n",
    "plt.show()#Observar valores ejes horizontal y vertical\n"
   ]
  },
  {
   "cell_type": "markdown",
   "metadata": {},
   "source": [
    "# Matrices"
   ]
  },
  {
   "cell_type": "code",
   "execution_count": 17,
   "metadata": {},
   "outputs": [
    {
     "name": "stdout",
     "output_type": "stream",
     "text": [
      "Lista A: [[1, 2, 3, 4], [9, 10, 11, 12], [5, 6, 7, 8]]\n",
      "<class 'list'>\n",
      "\n",
      "Matriz A a partir de la lista A,\n",
      " Matriz A= [[ 1  2  3  4]\n",
      " [ 9 10 11 12]\n",
      " [ 5  6  7  8]] \n",
      " Dimensión de la matriz A: (3, 4)\n",
      "<class 'numpy.ndarray'>\n",
      "máximo de matriz 12\n",
      "\n",
      "traspuesta de la matriz A=\n",
      "[[ 1  9  5]\n",
      " [ 2 10  6]\n",
      " [ 3 11  7]\n",
      " [ 4 12  8]]\n",
      "La dimensión de la transpuesta es (4, 3)\n",
      "\n",
      "Lista B [1, 2, 3, 4, 5, 6, 7, 8, 9, 10, 11, 'hola']\n",
      "<class 'list'>\n",
      "\n",
      "Vector np.arange(11) es [ 0  1  2  3  4  5  6  7  8  9 10]\n",
      "<class 'numpy.ndarray'>\n",
      "\n",
      "Tomo C como los primeros 11 elementos de la lista B  [1, 2, 3, 4, 5, 6, 7, 8, 9, 10, 11]\n",
      "<class 'list'>\n",
      "\n",
      "Lista C convertida en vector [ 1  2  3  4  5  6  7  8  9 10 11]\n",
      "<class 'numpy.ndarray'>\n",
      "\n"
     ]
    }
   ],
   "source": [
    "import numpy as np\n",
    "A=[[1, 2, 3, 4], [9, 10, 11, 12],[5, 6, 7, 8]] #En las listas los elementos se separan con comas\n",
    "print(\"Lista A:\", A)\n",
    "print(type(A))\n",
    "print()\n",
    "\n",
    "Amat=np.array(A)\n",
    "print(\"Matriz A a partir de la lista A,\\n Matriz A=\", Amat, \"\\n Dimensión de la matriz A:\", Amat.shape)\n",
    "print(type(Amat))\n",
    "\n",
    "m=Amat.max()\n",
    "print(\"máximo de matriz\",m)\n",
    "print()\n",
    "\n",
    "At=np.transpose(Amat) #transpuesta de la matriz\n",
    "print(\"traspuesta de la matriz A=\")\n",
    "print(At)\n",
    "print(\"La dimensión de la transpuesta es\",At.shape)\n",
    "print()\n",
    "\n",
    "B=[1, 2, 3, 4, 5, 6, 7, 8, 9, 10, 11, \"hola\"]\n",
    "print(\"Lista B\",B) #La lista puede tener elementos de distinto tipo\n",
    "print(type(B))\n",
    "print()\n",
    "\n",
    "D=np.arange(11)\n",
    "print(\"Vector np.arange(11) es\",D)#con np.arange() generamos vectores\n",
    "print(type(D))\n",
    "print()\n",
    "\n",
    "C=B[0:11]\n",
    "print(\"Tomo C como los primeros 11 elementos de la lista B \",C)\n",
    "print(type(C))\n",
    "print()\n",
    "\n",
    "\n",
    "E=np.array(C)\n",
    "print(\"Lista C convertida en vector\", E)\n",
    "print(type(E))\n",
    "print()"
   ]
  },
  {
   "cell_type": "code",
   "execution_count": 18,
   "metadata": {},
   "outputs": [
    {
     "name": "stdout",
     "output_type": "stream",
     "text": [
      "[[ 1  2  3  4]\n",
      " [ 9 10 11 12]\n",
      " [ 5  6  7  8]]\n",
      "6 es igual que 6\n",
      "\n",
      "[[ 1  2  3  4]\n",
      " [ 9 10 11 12]\n",
      " [ 5 15  7  8]]\n",
      "\n",
      " Submatriz formada por las dos primeras filas separadas con A[range(0,2)]=\n",
      "[[ 1  2  3  4]\n",
      " [ 9 10 11 12]]\n",
      "\n",
      "\n",
      "Submatriz dos primeras filas separadas con A[0:2]=\n",
      "[[ 1  2  3  4]\n",
      " [ 9 10 11 12]] \n",
      "\n",
      "\n",
      "Submatriz primera fila obtenida con A[0:1]= [[1 2 3 4]] \n",
      "\n",
      "\n",
      "Submatriz formada por las 3 primeras filas y las dos primeras columnas=\n",
      "[[ 1  2]\n",
      " [ 9 10]\n",
      " [ 5 15]] \n",
      "\n",
      "Submatriz formada por las Filas segunda y tercera, filas segunda y tercera \n",
      "[[10 11]\n",
      " [15  7]] \n",
      "\n",
      "\n",
      " atributo y función size de un arreglo con numpy, dos formas de obtenerlo: 12 12\n"
     ]
    }
   ],
   "source": [
    "#Elemento de una matriz\n",
    "print(Amat)\n",
    "print(Amat[2][1], \"es igual que\", Amat[2,1]) #fila 2(3ra) columna 1 (2da)\n",
    "print()\n",
    "#cambiar un valor de A\n",
    "Amat[2][1]=15\n",
    "print(Amat)\n",
    "print\n",
    "\n",
    "# Submatriz \n",
    "print(\"\\n Submatriz formada por las dos primeras filas separadas con A[range(0,2)]=\")\n",
    "print(Amat[range(0,2)]) \n",
    "print()\n",
    "\n",
    "Amat[0:2][0:3]### no se considera el segundo corchete usando intervalos en algún corchete\n",
    "Amat[1:2][1:3]### estos dos son iguales\n",
    "\n",
    "print(\"\\nSubmatriz dos primeras filas separadas con A[0:2]=\")\n",
    "print(Amat[0:2],\"\\n\") #desde fila 0 (inclusive) hasta fila 2 exclusive\n",
    "\n",
    "print(\"\\nSubmatriz primera fila obtenida con A[0:1]=\",Amat[0:1],\"\\n\")\n",
    "\n",
    "print(\"\\nSubmatriz formada por las 3 primeras filas y las dos primeras columnas=\")\n",
    "print(Amat[0:3,0:2],\"\\n\")#desde fila y col 0 (inclusive) hasta fila 3 y col 2 exclusive\n",
    "\n",
    "print(\"Submatriz formada por las Filas segunda y tercera, filas segunda y tercera \")\n",
    "print(Amat[1:3,1:3],\"\\n\") #desde fila y col 1 (inclusive) hasta fila y col 3 exclusive\n",
    "\n",
    "print(\"\\n atributo y función size de un arreglo con numpy, dos formas de obtenerlo:\", Amat.size,  np.size(Amat) )\n",
    "\n"
   ]
  },
  {
   "cell_type": "code",
   "execution_count": 19,
   "metadata": {},
   "outputs": [
    {
     "name": "stdout",
     "output_type": "stream",
     "text": [
      "Primer caso de concatenado, axis=1\n",
      " [[ 1  2  3  4  1  2  3  4]\n",
      " [ 9 10 11 12  9 10 11 12]\n",
      " [ 5 15  7  8  5 15  7  8]]\n",
      "\n",
      "Segundo caso de Concatenado, axis=0\n",
      " [[ 1  2  3  4]\n",
      " [ 9 10 11 12]\n",
      " [ 5 15  7  8]\n",
      " [ 1  2  3  4]\n",
      " [ 9 10 11 12]\n",
      " [ 5 15  7  8]]\n"
     ]
    }
   ],
   "source": [
    "#Concatenado de matrices\n",
    "#help (np.concatenate)\n",
    "DobleAhoriz=np.concatenate((Amat,Amat),axis=1)\n",
    "print(\"Primer caso de concatenado, axis=1\\n\",DobleAhoriz)\n",
    "\n",
    "DobleAvert=np.concatenate((Amat,Amat),axis=0)\n",
    "print(\"\\nSegundo caso de Concatenado, axis=0\\n\",DobleAvert)"
   ]
  },
  {
   "cell_type": "code",
   "execution_count": 20,
   "metadata": {},
   "outputs": [
    {
     "name": "stdout",
     "output_type": "stream",
     "text": [
      "(3, 4) (4, 3)\n",
      "Matriz=\n",
      "' <class 'numpy.ndarray'>\n",
      "[[ 1  2  3  4]\n",
      " [ 9 10 11 12]\n",
      " [ 5 15  7  8]]\n",
      "\n",
      "Transpuesta\n",
      " <class 'numpy.ndarray'>\n",
      "[[ 1  9  5]\n",
      " [ 2 10 15]\n",
      " [ 3 11  7]\n",
      " [ 4 12  8]]\n",
      "\n",
      "Producto matriz por la traspuesta\n",
      "[[ 30 110  88]\n",
      " [110 446 368]\n",
      " [ 88 368 363]]\n",
      "\n",
      "Producto matriz punto a punto por sí misma\n",
      "[[  1   4   9  16]\n",
      " [ 81 100 121 144]\n",
      " [ 25 225  49  64]]\n",
      "\n",
      "[[  1   4   9  16]\n",
      " [ 81 100 121 144]\n",
      " [ 25 225  49  64]]\n",
      "\n",
      "División punto a punto de la matriz por sí misma\n",
      "[[1. 1. 1. 1.]\n",
      " [1. 1. 1. 1.]\n",
      " [1. 1. 1. 1.]]\n",
      "\n",
      "División de los elementos por 2\n",
      "[[0.5 1.  1.5 2. ]\n",
      " [4.5 5.  5.5 6. ]\n",
      " [2.5 7.5 3.5 4. ]]\n",
      "\n",
      "Sumo la matriz a sí misma\n",
      "[[ 2  4  6  8]\n",
      " [18 20 22 24]\n",
      " [10 30 14 16]]\n",
      "\n",
      "Concateno lista\n",
      "[[1, 2, 3, 4], [9, 10, 11, 12], [5, 6, 7, 8], [1, 2, 3, 4], [9, 10, 11, 12], [5, 6, 7, 8]]\n",
      "\n",
      "Convierto la concatenación en arreglo\n",
      "[[ 1  2  3  4]\n",
      " [ 9 10 11 12]\n",
      " [ 5  6  7  8]\n",
      " [ 1  2  3  4]\n",
      " [ 9 10 11 12]\n",
      " [ 5  6  7  8]]\n",
      "\n",
      "Sumo 3 punto a punto a la matriz original\n",
      "[[ 4  5  6  7]\n",
      " [12 13 14 15]\n",
      " [ 8 18 10 11]]\n",
      "\n",
      "Multiplico por 2 todos los elementos de la matriz original\n",
      "[[ 2  4  6  8]\n",
      " [18 20 22 24]\n",
      " [10 30 14 16]]\n"
     ]
    }
   ],
   "source": [
    "#Operaciones matriciales\n",
    "print(np.shape(Amat),np.shape(At))\n",
    "print(\"Matriz=\\n'\",type(Amat))\n",
    "print(Amat)\n",
    "print()\n",
    "print(\"Transpuesta\\n\",type(At))\n",
    "print(At)\n",
    "print()\n",
    "print(\"Producto matriz por la traspuesta\")\n",
    "print(np.dot(Amat,At))  #\n",
    "print()\n",
    "      \n",
    "#Producto lugar a lugar/ punto a punto de arreglos numpy\n",
    "print(\"Producto matriz punto a punto por sí misma\")\n",
    "print(Amat*Amat) \n",
    "print()\n",
    "#Otra forma\n",
    "print(np.multiply(Amat,Amat)) #Producto punto a punto\n",
    "\n",
    "print()\n",
    "print(\"División punto a punto de la matriz por sí misma\")\n",
    "print(Amat/Amat)    #División punto a punto\n",
    "\n",
    "print()\n",
    "print(\"División de los elementos por 2\")\n",
    "print(Amat/2) #División punto a punto\n",
    "\n",
    "print()\n",
    "print(\"Sumo la matriz a sí misma\")\n",
    "print(Amat+Amat)     #Suma (lugar a lugar)\n",
    "\n",
    "print()\n",
    "print(\"Concateno lista\")\n",
    "print(A+A)     #Ojo!! concatenación de listas ya que A es lista\n",
    "\n",
    "print()\n",
    "print(\"Convierto la concatenación en arreglo\")\n",
    "print(np.array(A+A)) #concatenación de listas en arreglos!\n",
    "\n",
    "print()\n",
    "print(\"Sumo 3 punto a punto a la matriz original\")\n",
    "print(Amat+3) #Suma (lugar a lugar)\n",
    "\n",
    "print()\n",
    "print(\"Multiplico por 2 todos los elementos de la matriz original\")\n",
    "print(2*Amat) #Producto por escalar (lugar a lugar)"
   ]
  },
  {
   "cell_type": "markdown",
   "metadata": {},
   "source": [
    "**Ejercicio**\n",
    "\n",
    "Defina una matriz de unos de dimensión 3x2.\n",
    "\n",
    "Multiplique la primera fila por 3.\n",
    "\n",
    "Multiplique la última fila por 2.\n",
    "\n",
    "Muestre la matriz obtenida y su traspuesta."
   ]
  },
  {
   "cell_type": "markdown",
   "metadata": {},
   "source": [
    "### Algunas funciones numpy para arreglos:\n",
    "\n",
    "np.mean\n",
    "\n",
    "np.median\n",
    "\n",
    "np.corrcoef\n",
    "\n",
    "np.std\n",
    "\n",
    "numpy.array()\n",
    "numpy.zeros()\n",
    "numpy.arange()\n",
    "numpy.ones()\n",
    "numpy.sum()\n",
    "numpy.float32()\n",
    "numpy.mean()\n",
    "numpy.asarray() # a = np.array([1, 2], dtype=np.float32) Genera el array, tipo float32\n",
    "numpy.int32()\n",
    "numpy.std()\n",
    "numpy.max()\n",
    "numpy.concatenate()\n",
    "numpy.min()\n",
    "numpy.unique() #quita los elementos repetidos\n",
    "numpy.round()\n",
    "\n",
    "### Para pares de arreglos:\n",
    "\n",
    "np.column_stack(u,w)\n",
    "a = np.array((1,2,3))\n",
    "b = np.array((2,3,4))\n",
    "np.column_stack((a,b))\n",
    "Devuelve:\n",
    "array([[1, 2],\n",
    "       [2, 3],\n",
    "       [3, 4]])\n",
    "\n",
    "\n",
    "### Funciones numpy para generación de datos:\n",
    "\n",
    "np.random.normal(mu,sigma,n)\n",
    "\n",
    "np.zeros\n",
    "\n",
    "np.ones\n",
    "\n",
    "### Otras funciones útiles\n",
    "\n",
    "time.time()\n",
    "\n",
    "os.listdir()\n",
    "\n",
    "os.makedirs()\n",
    "\n",
    "glob.glob()\n",
    "glob.glob(nombre) devuelve una lista de los caminos que contienen nombre \n",
    "Ejemplo:\n",
    "glob.glob('*.gif')\n",
    "devuelve la lista de archivos gif. Por ejemplo: ['1.gif', 'card.gif']\n"
   ]
  },
  {
   "cell_type": "markdown",
   "metadata": {},
   "source": [
    "### **Estructura de Repetición**\n",
    "\n",
    "\n",
    "**For con enumerate**\n"
   ]
  },
  {
   "cell_type": "code",
   "execution_count": 111,
   "metadata": {},
   "outputs": [
    {
     "name": "stdout",
     "output_type": "stream",
     "text": [
      "1 manzana\n",
      "2 bananas\n",
      "3 uvas\n",
      "4 peras\n"
     ]
    }
   ],
   "source": [
    "mi_lista = ['manzana', 'bananas', 'uvas', 'peras']\n",
    "for c, value in enumerate(mi_lista, 1):\n",
    "    print(c, value)\n"
   ]
  },
  {
   "cell_type": "code",
   "execution_count": null,
   "metadata": {},
   "outputs": [],
   "source": []
  }
 ],
 "metadata": {
  "kernelspec": {
   "display_name": "Python 3",
   "language": "python",
   "name": "python3"
  },
  "language_info": {
   "codemirror_mode": {
    "name": "ipython",
    "version": 3
   },
   "file_extension": ".py",
   "mimetype": "text/x-python",
   "name": "python",
   "nbconvert_exporter": "python",
   "pygments_lexer": "ipython3",
   "version": "3.6.5"
  }
 },
 "nbformat": 4,
 "nbformat_minor": 2
}
